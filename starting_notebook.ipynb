{
 "cells": [
  {
   "cell_type": "markdown",
   "metadata": {},
   "source": [
    "# IOM Missing Migrants Challenge"
   ]
  },
  {
   "cell_type": "markdown",
   "metadata": {},
   "source": [
    "This jupyter notebook should just be a starting point for you to get familiar with the data. "
   ]
  },
  {
   "cell_type": "markdown",
   "metadata": {},
   "source": [
    "# Initial Data Loading and Inspection"
   ]
  },
  {
   "cell_type": "code",
   "execution_count": 1,
   "metadata": {},
   "outputs": [],
   "source": [
    "#load your libraries here\n",
    "import pandas as pd\n",
    "import numpy as np"
   ]
  },
  {
   "cell_type": "code",
   "execution_count": 3,
   "metadata": {},
   "outputs": [],
   "source": [
    "#loading the raw data\n",
    "df_raw = pd.read_csv('data/Missing_Migrants_Global_Figures_allData.csv')"
   ]
  },
  {
   "cell_type": "markdown",
   "metadata": {},
   "source": [
    "- Perform a basic inspection of the data using methods like .head(), .info(), shape, and .describe() to understand the structure, types of data available, and statistical summaries."
   ]
  },
  {
   "cell_type": "code",
   "execution_count": 4,
   "metadata": {},
   "outputs": [
    {
     "data": {
      "text/html": [
       "<div>\n",
       "<style scoped>\n",
       "    .dataframe tbody tr th:only-of-type {\n",
       "        vertical-align: middle;\n",
       "    }\n",
       "\n",
       "    .dataframe tbody tr th {\n",
       "        vertical-align: top;\n",
       "    }\n",
       "\n",
       "    .dataframe thead th {\n",
       "        text-align: right;\n",
       "    }\n",
       "</style>\n",
       "<table border=\"1\" class=\"dataframe\">\n",
       "  <thead>\n",
       "    <tr style=\"text-align: right;\">\n",
       "      <th></th>\n",
       "      <th>Main ID</th>\n",
       "      <th>Incident ID</th>\n",
       "      <th>Incident Type</th>\n",
       "      <th>Region of Incident</th>\n",
       "      <th>Incident Date</th>\n",
       "      <th>Incident Year</th>\n",
       "      <th>Month</th>\n",
       "      <th>Number of Dead</th>\n",
       "      <th>Minimum Estimated Number of Missing</th>\n",
       "      <th>Total Number of Dead and Missing</th>\n",
       "      <th>...</th>\n",
       "      <th>Region of Origin</th>\n",
       "      <th>Cause of Death</th>\n",
       "      <th>Country of Incident</th>\n",
       "      <th>Migration Route</th>\n",
       "      <th>Location of Incident</th>\n",
       "      <th>Coordinates</th>\n",
       "      <th>UNSD Geographical Grouping</th>\n",
       "      <th>Information Source</th>\n",
       "      <th>URL</th>\n",
       "      <th>Source Quality</th>\n",
       "    </tr>\n",
       "  </thead>\n",
       "  <tbody>\n",
       "    <tr>\n",
       "      <th>0</th>\n",
       "      <td>2014.MMP00001</td>\n",
       "      <td>2014.MMP00001</td>\n",
       "      <td>Incident</td>\n",
       "      <td>North America</td>\n",
       "      <td>2014-01-06</td>\n",
       "      <td>2014</td>\n",
       "      <td>January</td>\n",
       "      <td>1.0</td>\n",
       "      <td>NaN</td>\n",
       "      <td>1</td>\n",
       "      <td>...</td>\n",
       "      <td>Central America</td>\n",
       "      <td>Mixed or unknown</td>\n",
       "      <td>United States of America</td>\n",
       "      <td>US-Mexico border crossing</td>\n",
       "      <td>Pima Country Office of the Medical Examiner ju...</td>\n",
       "      <td>31.650259, -110.366453</td>\n",
       "      <td>Northern America</td>\n",
       "      <td>Pima County Office of the Medical Examiner (PC...</td>\n",
       "      <td>http://humaneborders.info/</td>\n",
       "      <td>5</td>\n",
       "    </tr>\n",
       "    <tr>\n",
       "      <th>1</th>\n",
       "      <td>2014.MMP00002</td>\n",
       "      <td>2014.MMP00002</td>\n",
       "      <td>Incident</td>\n",
       "      <td>North America</td>\n",
       "      <td>2014-01-12</td>\n",
       "      <td>2014</td>\n",
       "      <td>January</td>\n",
       "      <td>1.0</td>\n",
       "      <td>NaN</td>\n",
       "      <td>1</td>\n",
       "      <td>...</td>\n",
       "      <td>Latin America / Caribbean (P)</td>\n",
       "      <td>Mixed or unknown</td>\n",
       "      <td>United States of America</td>\n",
       "      <td>US-Mexico border crossing</td>\n",
       "      <td>Pima Country Office of the Medical Examiner ju...</td>\n",
       "      <td>31.59713, -111.73756</td>\n",
       "      <td>Northern America</td>\n",
       "      <td>Pima County Office of the Medical Examiner (PC...</td>\n",
       "      <td>NaN</td>\n",
       "      <td>5</td>\n",
       "    </tr>\n",
       "    <tr>\n",
       "      <th>2</th>\n",
       "      <td>2014.MMP00003</td>\n",
       "      <td>2014.MMP00003</td>\n",
       "      <td>Incident</td>\n",
       "      <td>North America</td>\n",
       "      <td>2014-01-14</td>\n",
       "      <td>2014</td>\n",
       "      <td>January</td>\n",
       "      <td>1.0</td>\n",
       "      <td>NaN</td>\n",
       "      <td>1</td>\n",
       "      <td>...</td>\n",
       "      <td>Latin America / Caribbean (P)</td>\n",
       "      <td>Mixed or unknown</td>\n",
       "      <td>United States of America</td>\n",
       "      <td>US-Mexico border crossing</td>\n",
       "      <td>Pima Country Office of the Medical Examiner ju...</td>\n",
       "      <td>31.94026, -113.01125</td>\n",
       "      <td>Northern America</td>\n",
       "      <td>Pima County Office of the Medical Examiner (PC...</td>\n",
       "      <td>NaN</td>\n",
       "      <td>5</td>\n",
       "    </tr>\n",
       "    <tr>\n",
       "      <th>3</th>\n",
       "      <td>2014.MMP00004</td>\n",
       "      <td>2014.MMP00004</td>\n",
       "      <td>Incident</td>\n",
       "      <td>North America</td>\n",
       "      <td>2014-01-16</td>\n",
       "      <td>2014</td>\n",
       "      <td>January</td>\n",
       "      <td>1.0</td>\n",
       "      <td>NaN</td>\n",
       "      <td>1</td>\n",
       "      <td>...</td>\n",
       "      <td>Central America</td>\n",
       "      <td>Violence</td>\n",
       "      <td>United States of America</td>\n",
       "      <td>US-Mexico border crossing</td>\n",
       "      <td>near Douglas, Arizona, USA</td>\n",
       "      <td>31.506777, -109.315632</td>\n",
       "      <td>Northern America</td>\n",
       "      <td>Ministry of Foreign Affairs Mexico, Pima Count...</td>\n",
       "      <td>http://bit.ly/1qfIw00</td>\n",
       "      <td>5</td>\n",
       "    </tr>\n",
       "    <tr>\n",
       "      <th>4</th>\n",
       "      <td>2014.MMP00005</td>\n",
       "      <td>2014.MMP00005</td>\n",
       "      <td>Incident</td>\n",
       "      <td>Europe</td>\n",
       "      <td>2014-01-16</td>\n",
       "      <td>2014</td>\n",
       "      <td>January</td>\n",
       "      <td>1.0</td>\n",
       "      <td>0.0</td>\n",
       "      <td>1</td>\n",
       "      <td>...</td>\n",
       "      <td>Northern Africa</td>\n",
       "      <td>Harsh environmental conditions / lack of adequ...</td>\n",
       "      <td>Russian Federation</td>\n",
       "      <td>NaN</td>\n",
       "      <td>Border between Russia and Estonia</td>\n",
       "      <td>59.1551, 28</td>\n",
       "      <td>Northern Europe</td>\n",
       "      <td>EUBusiness (Agence France-Presse)</td>\n",
       "      <td>http://bit.ly/1rTFTjR</td>\n",
       "      <td>1</td>\n",
       "    </tr>\n",
       "  </tbody>\n",
       "</table>\n",
       "<p>5 rows × 25 columns</p>\n",
       "</div>"
      ],
      "text/plain": [
       "         Main ID    Incident ID Incident Type Region of Incident  \\\n",
       "0  2014.MMP00001  2014.MMP00001      Incident      North America   \n",
       "1  2014.MMP00002  2014.MMP00002      Incident      North America   \n",
       "2  2014.MMP00003  2014.MMP00003      Incident      North America   \n",
       "3  2014.MMP00004  2014.MMP00004      Incident      North America   \n",
       "4  2014.MMP00005  2014.MMP00005      Incident             Europe   \n",
       "\n",
       "  Incident Date  Incident Year    Month  Number of Dead  \\\n",
       "0    2014-01-06           2014  January             1.0   \n",
       "1    2014-01-12           2014  January             1.0   \n",
       "2    2014-01-14           2014  January             1.0   \n",
       "3    2014-01-16           2014  January             1.0   \n",
       "4    2014-01-16           2014  January             1.0   \n",
       "\n",
       "   Minimum Estimated Number of Missing  Total Number of Dead and Missing  ...  \\\n",
       "0                                  NaN                                 1  ...   \n",
       "1                                  NaN                                 1  ...   \n",
       "2                                  NaN                                 1  ...   \n",
       "3                                  NaN                                 1  ...   \n",
       "4                                  0.0                                 1  ...   \n",
       "\n",
       "                Region of Origin  \\\n",
       "0                Central America   \n",
       "1  Latin America / Caribbean (P)   \n",
       "2  Latin America / Caribbean (P)   \n",
       "3                Central America   \n",
       "4                Northern Africa   \n",
       "\n",
       "                                      Cause of Death  \\\n",
       "0                                   Mixed or unknown   \n",
       "1                                   Mixed or unknown   \n",
       "2                                   Mixed or unknown   \n",
       "3                                           Violence   \n",
       "4  Harsh environmental conditions / lack of adequ...   \n",
       "\n",
       "        Country of Incident            Migration Route  \\\n",
       "0  United States of America  US-Mexico border crossing   \n",
       "1  United States of America  US-Mexico border crossing   \n",
       "2  United States of America  US-Mexico border crossing   \n",
       "3  United States of America  US-Mexico border crossing   \n",
       "4        Russian Federation                        NaN   \n",
       "\n",
       "                                Location of Incident             Coordinates  \\\n",
       "0  Pima Country Office of the Medical Examiner ju...  31.650259, -110.366453   \n",
       "1  Pima Country Office of the Medical Examiner ju...    31.59713, -111.73756   \n",
       "2  Pima Country Office of the Medical Examiner ju...    31.94026, -113.01125   \n",
       "3                         near Douglas, Arizona, USA  31.506777, -109.315632   \n",
       "4                  Border between Russia and Estonia             59.1551, 28   \n",
       "\n",
       "  UNSD Geographical Grouping  \\\n",
       "0           Northern America   \n",
       "1           Northern America   \n",
       "2           Northern America   \n",
       "3           Northern America   \n",
       "4            Northern Europe   \n",
       "\n",
       "                                  Information Source  \\\n",
       "0  Pima County Office of the Medical Examiner (PC...   \n",
       "1  Pima County Office of the Medical Examiner (PC...   \n",
       "2  Pima County Office of the Medical Examiner (PC...   \n",
       "3  Ministry of Foreign Affairs Mexico, Pima Count...   \n",
       "4                  EUBusiness (Agence France-Presse)   \n",
       "\n",
       "                          URL Source Quality  \n",
       "0  http://humaneborders.info/              5  \n",
       "1                         NaN              5  \n",
       "2                         NaN              5  \n",
       "3       http://bit.ly/1qfIw00              5  \n",
       "4       http://bit.ly/1rTFTjR              1  \n",
       "\n",
       "[5 rows x 25 columns]"
      ]
     },
     "execution_count": 4,
     "metadata": {},
     "output_type": "execute_result"
    }
   ],
   "source": [
    "df_raw.head()"
   ]
  },
  {
   "cell_type": "code",
   "execution_count": 5,
   "metadata": {},
   "outputs": [
    {
     "data": {
      "text/plain": [
       "(15927, 25)"
      ]
     },
     "execution_count": 5,
     "metadata": {},
     "output_type": "execute_result"
    }
   ],
   "source": [
    "df_raw.shape"
   ]
  },
  {
   "cell_type": "code",
   "execution_count": 10,
   "metadata": {},
   "outputs": [
    {
     "name": "stdout",
     "output_type": "stream",
     "text": [
      "<class 'pandas.core.frame.DataFrame'>\n",
      "RangeIndex: 15927 entries, 0 to 15926\n",
      "Data columns (total 25 columns):\n",
      " #   Column                               Non-Null Count  Dtype  \n",
      "---  ------                               --------------  -----  \n",
      " 0   Main ID                              15927 non-null  object \n",
      " 1   Incident ID                          15927 non-null  object \n",
      " 2   Incident Type                        15927 non-null  object \n",
      " 3   Region of Incident                   15927 non-null  object \n",
      " 4   Incident Date                        15912 non-null  object \n",
      " 5   Incident Year                        15927 non-null  int64  \n",
      " 6   Month                                15927 non-null  object \n",
      " 7   Number of Dead                       15133 non-null  float64\n",
      " 8   Minimum Estimated Number of Missing  1592 non-null   float64\n",
      " 9   Total Number of Dead and Missing     15927 non-null  int64  \n",
      " 10  Number of Survivors                  2540 non-null   float64\n",
      " 11  Number of Females                    3976 non-null   float64\n",
      " 12  Number of Males                      10195 non-null  float64\n",
      " 13  Number of Children                   2823 non-null   float64\n",
      " 14  Country of Origin                    15919 non-null  object \n",
      " 15  Region of Origin                     15926 non-null  object \n",
      " 16  Cause of Death                       15927 non-null  object \n",
      " 17  Country of Incident                  15927 non-null  object \n",
      " 18  Migration Route                      13449 non-null  object \n",
      " 19  Location of Incident                 15927 non-null  object \n",
      " 20  Coordinates                          15926 non-null  object \n",
      " 21  UNSD Geographical Grouping           15926 non-null  object \n",
      " 22  Information Source                   15914 non-null  object \n",
      " 23  URL                                  10283 non-null  object \n",
      " 24  Source Quality                       15927 non-null  int64  \n",
      "dtypes: float64(6), int64(3), object(16)\n",
      "memory usage: 3.0+ MB\n"
     ]
    }
   ],
   "source": [
    "df_raw.info()"
   ]
  },
  {
   "cell_type": "markdown",
   "metadata": {},
   "source": [
    "- We can see that the data has 15927 rows and 25 columns. We would advise you too look into the codebook and get familiar with the different features. "
   ]
  },
  {
   "cell_type": "markdown",
   "metadata": {},
   "source": [
    "# Data Preparation and Cleaning\n",
    "\n",
    "- The Coordinates variable has comma-separated longitudes and latitudes. The next cell separates them into 2 columns. "
   ]
  },
  {
   "cell_type": "code",
   "execution_count": 11,
   "metadata": {},
   "outputs": [],
   "source": [
    "df_raw[['lat', 'lon']] = df_raw['Coordinates'].str.split(',', expand=True)\n",
    "df_raw['lat'] = pd.to_numeric(df_raw['lat'], errors='coerce')\n",
    "df_raw['lon'] = pd.to_numeric(df_raw['lon'], errors='coerce')"
   ]
  },
  {
   "cell_type": "markdown",
   "metadata": {},
   "source": [
    "- Identify and handle missing values. Decide whether to fill them with data (e.g., mean, median) or remove the rows/columns entirely."
   ]
  },
  {
   "cell_type": "code",
   "execution_count": 12,
   "metadata": {},
   "outputs": [
    {
     "data": {
      "text/plain": [
       "Main ID                                    0\n",
       "Incident ID                                0\n",
       "Incident Type                              0\n",
       "Region of Incident                         0\n",
       "Incident Date                             15\n",
       "Incident Year                              0\n",
       "Month                                      0\n",
       "Number of Dead                           794\n",
       "Minimum Estimated Number of Missing    14335\n",
       "Total Number of Dead and Missing           0\n",
       "Number of Survivors                    13387\n",
       "Number of Females                      11951\n",
       "Number of Males                         5732\n",
       "Number of Children                     13104\n",
       "Country of Origin                          8\n",
       "Region of Origin                           1\n",
       "Cause of Death                             0\n",
       "Country of Incident                        0\n",
       "Migration Route                         2478\n",
       "Location of Incident                       0\n",
       "Coordinates                                1\n",
       "UNSD Geographical Grouping                 1\n",
       "Information Source                        13\n",
       "URL                                     5644\n",
       "Source Quality                             0\n",
       "lat                                        1\n",
       "lon                                        1\n",
       "dtype: int64"
      ]
     },
     "execution_count": 12,
     "metadata": {},
     "output_type": "execute_result"
    }
   ],
   "source": [
    "df_raw.isna().sum()"
   ]
  },
  {
   "cell_type": "markdown",
   "metadata": {},
   "source": [
    "- As you can see we have som variables with a high number of missing data in some of the columns.\n",
    "- The next cell removes the columns with more than 50% missing data. Should you be interested in those columns specifically just work with the df_raw."
   ]
  },
  {
   "cell_type": "code",
   "execution_count": 8,
   "metadata": {},
   "outputs": [
    {
     "data": {
      "text/plain": [
       "Main ID                                0\n",
       "Incident ID                            0\n",
       "Incident Type                          0\n",
       "Region of Incident                     0\n",
       "Incident Date                         15\n",
       "Incident Year                          0\n",
       "Month                                  0\n",
       "Number of Dead                       794\n",
       "Total Number of Dead and Missing       0\n",
       "Number of Males                     5732\n",
       "Country of Origin                      8\n",
       "Region of Origin                       1\n",
       "Cause of Death                         0\n",
       "Country of Incident                    0\n",
       "Migration Route                     2478\n",
       "Location of Incident                   0\n",
       "Coordinates                            1\n",
       "UNSD Geographical Grouping             1\n",
       "Information Source                    13\n",
       "URL                                 5644\n",
       "Source Quality                         0\n",
       "dtype: int64"
      ]
     },
     "execution_count": 8,
     "metadata": {},
     "output_type": "execute_result"
    }
   ],
   "source": [
    "threshold = len(df_raw) * 0.5\n",
    "df_clean = df_raw.dropna(thresh=threshold, axis=1)\n",
    "df_clean.isna().sum()"
   ]
  },
  {
   "cell_type": "markdown",
   "metadata": {},
   "source": [
    "# Feature Engineering\n",
    "\n",
    "- Create new columns that could be useful for analysis. For example you could use outside data on countries of origin to get new features that could be useful for the analysis."
   ]
  },
  {
   "cell_type": "markdown",
   "metadata": {},
   "source": [
    "# Exploratory Data Analysis (EDA)\n",
    "\n",
    "- Utilize visualizations (histograms, scatter plots, box plots) to understand distributions, relationships, and potential outliers in the data.\n",
    "- Use libraries like matplotlib, seaborn, and plotly to create visualizations.\n"
   ]
  },
  {
   "cell_type": "markdown",
   "metadata": {},
   "source": [
    "# Discussion Channels\n",
    "\n",
    "- Join the discussion on our designated Discord channels to ask questions about the challenge: https://discord.gg/2V535gBRY4\n",
    "\n",
    "# Ethical Considerations\n",
    "\n",
    "- Remember to handle this data responsibly. Respect the sensitivity of the information and ensure your analyses do not harm individuals or communities."
   ]
  },
  {
   "cell_type": "markdown",
   "metadata": {},
   "source": [
    "# Idea Generation and Hypothesis Formation\n",
    "- Based on your initial findings, brainstorm potential use cases or areas of interest for further exploration. This could range from visualizing the missing migrants numbers on an interactive map to building a scraper that finds new cases on the websites featured in the dataset.\n",
    "- Formulate hypotheses or questions that you want your analysis to address.\n",
    "- Have a look at the Global Migration Data Analysis Centre and their various projects to get inspired. "
   ]
  },
  {
   "cell_type": "code",
   "execution_count": 13,
   "metadata": {},
   "outputs": [],
   "source": [
    "# Now have its your turn to jump into the data! \n",
    "# Happy hacking!"
   ]
  }
 ],
 "metadata": {
  "kernelspec": {
   "display_name": "D4G",
   "language": "python",
   "name": "python3"
  },
  "language_info": {
   "codemirror_mode": {
    "name": "ipython",
    "version": 3
   },
   "file_extension": ".py",
   "mimetype": "text/x-python",
   "name": "python",
   "nbconvert_exporter": "python",
   "pygments_lexer": "ipython3",
   "version": "3.12.2"
  }
 },
 "nbformat": 4,
 "nbformat_minor": 2
}
